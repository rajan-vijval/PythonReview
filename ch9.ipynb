{
  "nbformat": 4,
  "nbformat_minor": 0,
  "metadata": {
    "colab": {
      "name": "ch9.ipynb",
      "provenance": []
    },
    "kernelspec": {
      "name": "python3",
      "display_name": "Python 3"
    }
  },
  "cells": [
    {
      "cell_type": "markdown",
      "metadata": {
        "id": "ZmtS7lET4UiH",
        "colab_type": "text"
      },
      "source": [
        "9.1 Tuple Exercises"
      ]
    },
    {
      "cell_type": "code",
      "metadata": {
        "id": "s1hXvPM221pT",
        "colab_type": "code",
        "colab": {
          "base_uri": "https://localhost:8080/",
          "height": 51
        },
        "outputId": "4d8ae958-e13f-4332-c5c1-c005bd59b932"
      },
      "source": [
        "cardinal_numbers = (\"first\", \"second\", \"third\")\n",
        "print(cardinal_numbers[1])\n",
        "type(cardinal_numbers)"
      ],
      "execution_count": 4,
      "outputs": [
        {
          "output_type": "stream",
          "text": [
            "second\n"
          ],
          "name": "stdout"
        },
        {
          "output_type": "execute_result",
          "data": {
            "text/plain": [
              "tuple"
            ]
          },
          "metadata": {
            "tags": []
          },
          "execution_count": 4
        }
      ]
    },
    {
      "cell_type": "code",
      "metadata": {
        "id": "K69g57dH3LIu",
        "colab_type": "code",
        "colab": {
          "base_uri": "https://localhost:8080/",
          "height": 68
        },
        "outputId": "fe3e7f08-c46b-4d04-be69-3b80a32b305a"
      },
      "source": [
        "position1, position2, position3 = cardinal_numbers\n",
        "print(position1)\n",
        "print(position2)\n",
        "print(position3)"
      ],
      "execution_count": 5,
      "outputs": [
        {
          "output_type": "stream",
          "text": [
            "first\n",
            "second\n",
            "third\n"
          ],
          "name": "stdout"
        }
      ]
    },
    {
      "cell_type": "code",
      "metadata": {
        "id": "yKXulwsB4KPx",
        "colab_type": "code",
        "colab": {}
      },
      "source": [
        "name = tuple(\"Vijval\")"
      ],
      "execution_count": 6,
      "outputs": []
    },
    {
      "cell_type": "code",
      "metadata": {
        "id": "Aj9ROU5r4N6z",
        "colab_type": "code",
        "colab": {
          "base_uri": "https://localhost:8080/",
          "height": 34
        },
        "outputId": "fbdcd412-e3eb-4982-e8c2-7902e1eeb85b"
      },
      "source": [
        "print(\"x\" in name)"
      ],
      "execution_count": 7,
      "outputs": [
        {
          "output_type": "stream",
          "text": [
            "False\n"
          ],
          "name": "stdout"
        }
      ]
    },
    {
      "cell_type": "code",
      "metadata": {
        "id": "IMvBFnEC4Qgb",
        "colab_type": "code",
        "colab": {
          "base_uri": "https://localhost:8080/",
          "height": 34
        },
        "outputId": "3408cf28-4ac7-43d4-ed0c-b26b4456aec0"
      },
      "source": [
        "print(name[1:])"
      ],
      "execution_count": 8,
      "outputs": [
        {
          "output_type": "stream",
          "text": [
            "('i', 'j', 'v', 'a', 'l')\n"
          ],
          "name": "stdout"
        }
      ]
    },
    {
      "cell_type": "markdown",
      "metadata": {
        "id": "Xa677RcC4ZUf",
        "colab_type": "text"
      },
      "source": [
        "9.2"
      ]
    },
    {
      "cell_type": "code",
      "metadata": {
        "id": "BCSshg2v4lAc",
        "colab_type": "code",
        "colab": {
          "base_uri": "https://localhost:8080/",
          "height": 34
        },
        "outputId": "9979117c-3efb-4680-82fd-b0a88f4e1db5"
      },
      "source": [
        "food = [\"rice\", \"beans\"]\n",
        "type(food)"
      ],
      "execution_count": 9,
      "outputs": [
        {
          "output_type": "execute_result",
          "data": {
            "text/plain": [
              "list"
            ]
          },
          "metadata": {
            "tags": []
          },
          "execution_count": 9
        }
      ]
    },
    {
      "cell_type": "code",
      "metadata": {
        "id": "_n1vdkTt4qQ_",
        "colab_type": "code",
        "colab": {}
      },
      "source": [
        "food.append(\"broccoli\")"
      ],
      "execution_count": 10,
      "outputs": []
    },
    {
      "cell_type": "code",
      "metadata": {
        "id": "Vpd5-uDt4uFM",
        "colab_type": "code",
        "colab": {
          "base_uri": "https://localhost:8080/",
          "height": 34
        },
        "outputId": "3c7f217b-9e7c-4c47-c9a2-39f4ddbb1dec"
      },
      "source": [
        "food.extend([\"bread\", \"pizza\"])\n",
        "print(food)"
      ],
      "execution_count": 12,
      "outputs": [
        {
          "output_type": "stream",
          "text": [
            "['rice', 'beans', 'broccoli', 'bread', 'pizza', 'bread', 'pizza']\n"
          ],
          "name": "stdout"
        }
      ]
    },
    {
      "cell_type": "code",
      "metadata": {
        "id": "sXTVGbjc4zT_",
        "colab_type": "code",
        "colab": {
          "base_uri": "https://localhost:8080/",
          "height": 34
        },
        "outputId": "a1467ecb-4520-49d3-e998-6b2a0ff3c64f"
      },
      "source": [
        "print(food[-1])"
      ],
      "execution_count": 13,
      "outputs": [
        {
          "output_type": "stream",
          "text": [
            "pizza\n"
          ],
          "name": "stdout"
        }
      ]
    },
    {
      "cell_type": "code",
      "metadata": {
        "id": "v7DktNZ742Ja",
        "colab_type": "code",
        "colab": {
          "base_uri": "https://localhost:8080/",
          "height": 34
        },
        "outputId": "df6e29b1-d6e8-4016-806e-5d8045496e05"
      },
      "source": [
        "breakfast = \"eggs, fruit, orange, juice\".split(\",\")\n",
        "print(breakfast)"
      ],
      "execution_count": 16,
      "outputs": [
        {
          "output_type": "stream",
          "text": [
            "['eggs', ' fruit', ' orange', ' juice']\n"
          ],
          "name": "stdout"
        }
      ]
    },
    {
      "cell_type": "code",
      "metadata": {
        "id": "03HvZccP5Er_",
        "colab_type": "code",
        "colab": {
          "base_uri": "https://localhost:8080/",
          "height": 34
        },
        "outputId": "a45fc3d2-73c9-4ed1-82e4-a80374cbaa1f"
      },
      "source": [
        "len(breakfast) == 3"
      ],
      "execution_count": 19,
      "outputs": [
        {
          "output_type": "execute_result",
          "data": {
            "text/plain": [
              "False"
            ]
          },
          "metadata": {
            "tags": []
          },
          "execution_count": 19
        }
      ]
    },
    {
      "cell_type": "code",
      "metadata": {
        "id": "8Q3fJlm05Ho8",
        "colab_type": "code",
        "colab": {
          "base_uri": "https://localhost:8080/",
          "height": 34
        },
        "outputId": "eaadd25e-d1bb-4b3a-de89-a9b99e962ae5"
      },
      "source": [
        "lengths = [len(item) for item in breakfast]\n",
        "print(lengths)"
      ],
      "execution_count": 18,
      "outputs": [
        {
          "output_type": "stream",
          "text": [
            "[4, 6, 7, 6]\n"
          ],
          "name": "stdout"
        }
      ]
    },
    {
      "cell_type": "markdown",
      "metadata": {
        "id": "Kn6UazhU5a49",
        "colab_type": "text"
      },
      "source": [
        "9.3 Review"
      ]
    },
    {
      "cell_type": "code",
      "metadata": {
        "id": "5LQSjV8k5gKu",
        "colab_type": "code",
        "colab": {}
      },
      "source": [
        "data = ((1,2), (3,4))"
      ],
      "execution_count": 22,
      "outputs": []
    },
    {
      "cell_type": "code",
      "metadata": {
        "id": "wdVLNDes5iAv",
        "colab_type": "code",
        "colab": {
          "base_uri": "https://localhost:8080/",
          "height": 51
        },
        "outputId": "b06cdb7b-01d7-457e-bdf1-40993d92965b"
      },
      "source": [
        "count = 0\n",
        "for i in data:\n",
        "  row = 0\n",
        "  count += 1\n",
        "  for c in i:\n",
        "    row += c\n",
        "  print(\"Row \" + str(count) + \" sum: \" + str(row))"
      ],
      "execution_count": 25,
      "outputs": [
        {
          "output_type": "stream",
          "text": [
            "row 1 sum: 3\n",
            "row 2 sum: 7\n"
          ],
          "name": "stdout"
        }
      ]
    },
    {
      "cell_type": "code",
      "metadata": {
        "id": "kF-gCNLK6SPY",
        "colab_type": "code",
        "colab": {}
      },
      "source": [
        "numbers = [4,3,2,1]\n"
      ],
      "execution_count": 26,
      "outputs": []
    },
    {
      "cell_type": "code",
      "metadata": {
        "id": "L8-x1CRo6UUv",
        "colab_type": "code",
        "colab": {}
      },
      "source": [
        "numbers_cpy = numbers[:]"
      ],
      "execution_count": 28,
      "outputs": []
    },
    {
      "cell_type": "code",
      "metadata": {
        "id": "5Yo9I1XJ6YeL",
        "colab_type": "code",
        "colab": {}
      },
      "source": [
        "numbers.sort()"
      ],
      "execution_count": 29,
      "outputs": []
    },
    {
      "cell_type": "code",
      "metadata": {
        "id": "Qn5D32AX9jrx",
        "colab_type": "code",
        "colab": {}
      },
      "source": [
        "9.4 Challenge"
      ],
      "execution_count": null,
      "outputs": []
    },
    {
      "cell_type": "code",
      "metadata": {
        "id": "GFrENOwV6a1g",
        "colab_type": "code",
        "colab": {
          "base_uri": "https://localhost:8080/",
          "height": 153
        },
        "outputId": "d0070109-b718-442d-8fbe-a17747a6da66"
      },
      "source": [
        "import statistics\n",
        "\n",
        "universities = [\n",
        "                ['CalTech', 2175, 37704],\n",
        "                ['Harvard', 19627, 39849],\n",
        "                ['MIT', 10566, 40732],\n",
        "                ['Princeton', 7802, 37000],\n",
        "                ['Rice', 5879, 35551],\n",
        "                ['Stanford', 19535, 40569],\n",
        "                ['Yale', 11701, 40500]\n",
        "]\n",
        "\n",
        "\n",
        "def enrollment_stats():\n",
        "  total_enrollment = 0\n",
        "  enrollment_list = []\n",
        "  total_tuition = 0\n",
        "  tuition_list = []\n",
        "  for univ in universities:\n",
        "    total_enrollment += univ[1]\n",
        "    enrollment_list.append(univ[1])\n",
        "    total_tuition += univ[2]\n",
        "    tuition_list.append(univ[2])\n",
        "  \n",
        "  print(\"Total students: \" + str(total_enrollment) +\n",
        "        \"\\nTotal tuition: \" + str(total_tuition) +\n",
        "        \"\\n\\nStudent mean: \" + str(statistics.mean(enrollment_list)) +\n",
        "        \"\\nStudent median: \" + str(statistics.median(enrollment_list)) +\n",
        "        \"\\n\\nTuition mean: \" + str(statistics.mean(tuition_list)) +\n",
        "        \"\\nTuition median: \" + str(statistics.median(tuition_list))\n",
        "        ) \n",
        "enrollment_stats()"
      ],
      "execution_count": 50,
      "outputs": [
        {
          "output_type": "stream",
          "text": [
            "Total students: 77285\n",
            "Total tuition: 271905\n",
            "\n",
            "Student mean: 11040.714285714286\n",
            "Student median: 10566\n",
            "\n",
            "Tuition mean: 38843.57142857143\n",
            "Tuition median: 39849\n"
          ],
          "name": "stdout"
        }
      ]
    },
    {
      "cell_type": "markdown",
      "metadata": {
        "id": "LEmVdeYeI1yT",
        "colab_type": "text"
      },
      "source": [
        "9.5 Challenge"
      ]
    },
    {
      "cell_type": "code",
      "metadata": {
        "id": "L6dfIlFO7pUW",
        "colab_type": "code",
        "colab": {
          "base_uri": "https://localhost:8080/",
          "height": 54
        },
        "outputId": "b7a3d0d7-bb67-421f-a7e0-0886687ea21e"
      },
      "source": [
        "import random\n",
        "\n",
        "nouns = [\"fossil\", \"horse\", \"aardvark\", \"judge\", \"chef\", \"mango\", \"extrovert\", \"gorilla\"]\n",
        "verbs = [\"kicks\", \"jingles\", \"boundes\", \"slurps\", \"meows\", \"explodes\", \"curdles\"]\n",
        "adjectives = [\"furry\", \"balding\", \"incredulous\", \"fragrant\", \"exuberant\", \"glistening\"]\n",
        "prepositions = [\"against\", \"after\", \"into\", \"beneath\", \"upon\", \"for\", \"in\", \"like\", \"over\", \"within\"]\n",
        "adverbs = [\"curiously\", \"extravagantly\", \"tantalizingly\", \"furiously\", \"sensuously\"]\n",
        "\n",
        "def rand_poem():\n",
        "  adj1 = random.choice(adjectives)\n",
        "  noun1 = random.choice(nouns)\n",
        "  verb1 = random.choice(verbs)\n",
        "  prep1 = random.choice(prepositions)\n",
        "\n",
        "  adj2 = random.choice(adjectives)\n",
        "  noun2 = random.choice(nouns)\n",
        "  adv1 = random.choice(adverbs)\n",
        "  verb2 = random.choice(verbs)\n",
        "\n",
        "  verb3 = random.choice(verbs)\n",
        "  prep2 = random.choice(prepositions)\n",
        "  adj3 = random.choice(adjectives)\n",
        "  noun3 = random.choice(nouns)\n",
        "\n",
        "  print(f\"{adj1} {noun1} {verb1} {prep1} the {adj2} {noun2} {adv1}, the {noun1} {verb2} the {noun2} {verb3} {prep2} a {adj3} {noun3}\")\n",
        "\n",
        "rand_poem()"
      ],
      "execution_count": 90,
      "outputs": [
        {
          "output_type": "stream",
          "text": [
            "incredulous fossil kicks like the exuberant judge tantalizingly, the fossil boundes the judge jingles beneath a fragrant judge\n"
          ],
          "name": "stdout"
        }
      ]
    },
    {
      "cell_type": "markdown",
      "metadata": {
        "id": "WRHzMmlj-nSJ",
        "colab_type": "text"
      },
      "source": [
        "9.6 Review"
      ]
    },
    {
      "cell_type": "code",
      "metadata": {
        "id": "9OVqm_aC-pAD",
        "colab_type": "code",
        "colab": {}
      },
      "source": [
        "captains = {}\n",
        "captains[\"Enterprise\"] = \"Picard\"\n",
        "captains[\"Voyager\"] = \"Janeway\"\n",
        "captains[\"Defiant\"] = \"Sisko\"\n",
        "\n",
        "if \"Enterprise\" not in captains:\n",
        "  captains[\"Enterprise\"] = \"unknown\"\n",
        "if \"Discovery\" not in captains:\n",
        "  captains[\"Discovery\"] = \"unknown\"\n",
        "\n",
        "del captains[\"Discovery\"]"
      ],
      "execution_count": 57,
      "outputs": []
    },
    {
      "cell_type": "markdown",
      "metadata": {
        "id": "qZJrXrrrBV8W",
        "colab_type": "text"
      },
      "source": [
        "9.7 Review"
      ]
    },
    {
      "cell_type": "code",
      "metadata": {
        "id": "jjIxpn-JBXHS",
        "colab_type": "code",
        "colab": {
          "base_uri": "https://localhost:8080/",
          "height": 51
        },
        "outputId": "15a00bec-04eb-4d63-b91e-dde66f057c6a"
      },
      "source": [
        "import random\n",
        "capitals_dict = {\n",
        "    'Alabama': 'Montgomery',\n",
        "    'Alasksa': 'Juneau',\n",
        "    'Arizona': 'Phoenix',\n",
        "    'Arkansas': 'Little Rock',\n",
        "    'California': 'Sacremento',\n",
        "    'Colorado': 'Denver',\n",
        "    'Connecticut': 'Hartford',\n",
        "    'Delaware': 'Dover',\n",
        "    'Florida': 'Tallahassee',\n",
        "    'Georgia': 'Ataknta'\n",
        "}\n",
        "\n",
        "state, capital = random.choice(list(capitals_dict.items()))\n",
        "\n",
        "def capitals():\n",
        "  i = random.randint(1,10)\n",
        "\n",
        "  ask = capitals_dict[i]\n",
        "  print(ask[1])\n",
        "\n",
        "while True:\n",
        "  user = input(f\"What is the capital of '{state}'\")\n",
        "  if user == 'exit':\n",
        "    print(f\"The capital of '{state}' is '{capital}'.\")\n",
        "    print(\"Goodbye\")\n",
        "    break\n",
        "  elif user==capital:\n",
        "    print(\"Correct!\")\n",
        "    break"
      ],
      "execution_count": 71,
      "outputs": [
        {
          "output_type": "stream",
          "text": [
            "What is the capital of 'Arkansas'Little Rock\n",
            "Correct!\n"
          ],
          "name": "stdout"
        }
      ]
    },
    {
      "cell_type": "markdown",
      "metadata": {
        "id": "GD7FkM6JEMiF",
        "colab_type": "text"
      },
      "source": [
        "9.9 Review"
      ]
    },
    {
      "cell_type": "code",
      "metadata": {
        "id": "1PiGOWk8D2-7",
        "colab_type": "code",
        "colab": {
          "base_uri": "https://localhost:8080/",
          "height": 34
        },
        "outputId": "29717081-1ca2-44b8-80f6-b8ad910ae869"
      },
      "source": [
        "def toggle(val):\n",
        "  if (val == 1):\n",
        "    val = 0\n",
        "  elif (val == 0):\n",
        "    val = 1\n",
        "\n",
        "cats = [0] * 100\n",
        "\n",
        "for i in range(100):\n",
        "  for c in range(1,98):\n",
        "    if ((i % c) == 0):\n",
        "      toggle(cats[i])\n",
        "\n",
        "count = 0\n",
        "for i in range(100):\n",
        "  \n",
        "  if (cats[i] != 0):\n",
        "    count += 1\n",
        "print(count)"
      ],
      "execution_count": 79,
      "outputs": [
        {
          "output_type": "stream",
          "text": [
            "0\n"
          ],
          "name": "stdout"
        }
      ]
    }
  ]
}