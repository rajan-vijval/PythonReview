{
  "nbformat": 4,
  "nbformat_minor": 0,
  "metadata": {
    "colab": {
      "name": "ch4.ipynb",
      "provenance": []
    },
    "kernelspec": {
      "name": "python3",
      "display_name": "Python 3"
    }
  },
  "cells": [
    {
      "cell_type": "code",
      "metadata": {
        "id": "EJVKHDwRvqvS",
        "colab_type": "code",
        "colab": {
          "base_uri": "https://localhost:8080/",
          "height": 34
        },
        "outputId": "a01a3b4a-33ec-44df-8773-63f90b8b1fcd"
      },
      "source": [
        "type(\"Hello world!\")"
      ],
      "execution_count": null,
      "outputs": [
        {
          "output_type": "execute_result",
          "data": {
            "text/plain": [
              "str"
            ]
          },
          "metadata": {
            "tags": []
          },
          "execution_count": 2
        }
      ]
    },
    {
      "cell_type": "code",
      "metadata": {
        "id": "XeppR1tTwAvW",
        "colab_type": "code",
        "colab": {
          "base_uri": "https://localhost:8080/",
          "height": 51
        },
        "outputId": "7dcaf11b-8339-4d9f-f6af-07e14ca65ff6"
      },
      "source": [
        "str1 = \"abc\"\n",
        "str2 = \"1234\"\n",
        "\n",
        "print(len(str1))\n",
        "print(len(str2))"
      ],
      "execution_count": null,
      "outputs": [
        {
          "output_type": "stream",
          "text": [
            "3\n",
            "4\n"
          ],
          "name": "stdout"
        }
      ]
    },
    {
      "cell_type": "markdown",
      "metadata": {
        "id": "7zQUL8EGwW5z",
        "colab_type": "text"
      },
      "source": [
        "4.1 Review Exercises\n",
        "1. Double quote string using escape\n",
        "2. String w/ apostrophe\n",
        "3. Multiline string w/ whitespace\n",
        "4. Multiline string no whitespace"
      ]
    },
    {
      "cell_type": "code",
      "metadata": {
        "id": "IAkY5GiOwYnW",
        "colab_type": "code",
        "colab": {
          "base_uri": "https://localhost:8080/",
          "height": 34
        },
        "outputId": "2e1db787-54fe-4d92-e777-11fd6076693d"
      },
      "source": [
        "print(\"\\\"Double quote string\\\"\")"
      ],
      "execution_count": null,
      "outputs": [
        {
          "output_type": "stream",
          "text": [
            "\"Double quote string\"\n"
          ],
          "name": "stdout"
        }
      ]
    },
    {
      "cell_type": "code",
      "metadata": {
        "id": "PEBYL9O_wrw5",
        "colab_type": "code",
        "colab": {
          "base_uri": "https://localhost:8080/",
          "height": 34
        },
        "outputId": "705fc3da-e83e-4e71-c3cd-28653cb139c4"
      },
      "source": [
        "print(\"No he didn\\'\")"
      ],
      "execution_count": null,
      "outputs": [
        {
          "output_type": "stream",
          "text": [
            "No he didn'\n"
          ],
          "name": "stdout"
        }
      ]
    },
    {
      "cell_type": "code",
      "metadata": {
        "id": "3HEOfey7wxez",
        "colab_type": "code",
        "colab": {
          "base_uri": "https://localhost:8080/",
          "height": 68
        },
        "outputId": "d97b7bc9-9d95-4bb0-f29f-e550cedbf88f"
      },
      "source": [
        "print(\"\"\"This      \n",
        "has the         whitespace \n",
        "    preserved\"\"\")"
      ],
      "execution_count": null,
      "outputs": [
        {
          "output_type": "stream",
          "text": [
            "This      \n",
            "has the         whitespace \n",
            "    preserved\n"
          ],
          "name": "stdout"
        }
      ]
    },
    {
      "cell_type": "code",
      "metadata": {
        "id": "9R2ryf4e0vpo",
        "colab_type": "code",
        "colab": {
          "base_uri": "https://localhost:8080/",
          "height": 34
        },
        "outputId": "8ac22bdf-ff3a-46a7-d1e2-4aaa8c9295df"
      },
      "source": [
        "print(\"This \\\n",
        "gets \\\n",
        "printed \\\n",
        "on \\\n",
        "a \\\n",
        "single \\\n",
        "line.\")"
      ],
      "execution_count": null,
      "outputs": [
        {
          "output_type": "stream",
          "text": [
            "This gets printed on a single line.\n"
          ],
          "name": "stdout"
        }
      ]
    },
    {
      "cell_type": "markdown",
      "metadata": {
        "id": "0SSvk-UZ1c25",
        "colab_type": "text"
      },
      "source": [
        "4.2 Review Exercises\n",
        "1. Use len to print length of string\n",
        "2. Concatenate two strings\n",
        "3. Concatenate two strings and add space between\n",
        "4. Print slice of string"
      ]
    },
    {
      "cell_type": "code",
      "metadata": {
        "id": "suj3_Xvl1pmU",
        "colab_type": "code",
        "colab": {
          "base_uri": "https://localhost:8080/",
          "height": 34
        },
        "outputId": "1460f391-f2a3-412c-9709-780405e6c249"
      },
      "source": [
        "example_str = \"Vijval Rajan\"\n",
        "print(len(example_str))"
      ],
      "execution_count": null,
      "outputs": [
        {
          "output_type": "stream",
          "text": [
            "12\n"
          ],
          "name": "stdout"
        }
      ]
    },
    {
      "cell_type": "code",
      "metadata": {
        "id": "v4UYglSY15Ed",
        "colab_type": "code",
        "colab": {
          "base_uri": "https://localhost:8080/",
          "height": 34
        },
        "outputId": "ea0b9d19-9a07-48cd-8275-b3f9d2f05e00"
      },
      "source": [
        "one = \"Java\"\n",
        "two = \"Script\"\n",
        "print(one+two)"
      ],
      "execution_count": null,
      "outputs": [
        {
          "output_type": "stream",
          "text": [
            "JavaScript\n"
          ],
          "name": "stdout"
        }
      ]
    },
    {
      "cell_type": "code",
      "metadata": {
        "id": "1_gMIJmZ2DxT",
        "colab_type": "code",
        "colab": {
          "base_uri": "https://localhost:8080/",
          "height": 34
        },
        "outputId": "3ae7bb70-3f76-4110-a0b6-65e4f1f03939"
      },
      "source": [
        "first = \"Vijval\"\n",
        "last = \"Rajan\"\n",
        "print(first + \" \" + last)"
      ],
      "execution_count": null,
      "outputs": [
        {
          "output_type": "stream",
          "text": [
            "Vijval Rajan\n"
          ],
          "name": "stdout"
        }
      ]
    },
    {
      "cell_type": "code",
      "metadata": {
        "id": "7fi6lCJE2Jn-",
        "colab_type": "code",
        "colab": {
          "base_uri": "https://localhost:8080/",
          "height": 34
        },
        "outputId": "b9dd1ab0-1916-446d-8457-128b6d065103"
      },
      "source": [
        "sheldon = \"bazinga\"\n",
        "print(sheldon[2:6])"
      ],
      "execution_count": null,
      "outputs": [
        {
          "output_type": "stream",
          "text": [
            "zing\n"
          ],
          "name": "stdout"
        }
      ]
    },
    {
      "cell_type": "code",
      "metadata": {
        "id": "2mD3gy932TGa",
        "colab_type": "code",
        "colab": {}
      },
      "source": [
        "4.3 Review Exercises\n",
        "1. Make strings lowercase\n",
        "2. Make strings uppercase\n",
        "3. Remove whitespace\n",
        "4. Use .startswith()\n",
        "5. Modify p4"
      ],
      "execution_count": null,
      "outputs": []
    },
    {
      "cell_type": "code",
      "metadata": {
        "id": "-smgjtt429L_",
        "colab_type": "code",
        "colab": {
          "base_uri": "https://localhost:8080/",
          "height": 85
        },
        "outputId": "ea8b410c-2b47-49a3-de9e-a0dccfae3ccb"
      },
      "source": [
        "animals = [\"Animals\", \"Badger\", \"Honey Bee\", \"Honey Badger\"]\n",
        "for i in range(len(animals)):\n",
        "  print(animals[i].lower())"
      ],
      "execution_count": null,
      "outputs": [
        {
          "output_type": "stream",
          "text": [
            "animals\n",
            "badger\n",
            "honey bee\n",
            "honey badger\n"
          ],
          "name": "stdout"
        }
      ]
    },
    {
      "cell_type": "code",
      "metadata": {
        "id": "ClQ3Tsa13U19",
        "colab_type": "code",
        "colab": {
          "base_uri": "https://localhost:8080/",
          "height": 85
        },
        "outputId": "bf061a5c-eab9-4f72-fbd0-7cd601317df9"
      },
      "source": [
        "for i in range(len(animals)):\n",
        "  print(animals[i].upper())"
      ],
      "execution_count": null,
      "outputs": [
        {
          "output_type": "stream",
          "text": [
            "ANIMALS\n",
            "BADGER\n",
            "HONEY BEE\n",
            "HONEY BADGER\n"
          ],
          "name": "stdout"
        }
      ]
    },
    {
      "cell_type": "code",
      "metadata": {
        "id": "zTxZj9323drG",
        "colab_type": "code",
        "colab": {
          "base_uri": "https://localhost:8080/",
          "height": 68
        },
        "outputId": "b7ad0110-b18a-4996-8dd8-b1e37ed56940"
      },
      "source": [
        "s1 = \"     Filet Mignon\"\n",
        "s2 = \"Brisket       \"\n",
        "s3 = \"      Cheeseburger     \"\n",
        "print(s1.lstrip());\n",
        "print(s2.rstrip());\n",
        "print(s3.strip());"
      ],
      "execution_count": null,
      "outputs": [
        {
          "output_type": "stream",
          "text": [
            "Filet Mignon\n",
            "Brisket\n",
            "Cheeseburger\n"
          ],
          "name": "stdout"
        }
      ]
    },
    {
      "cell_type": "code",
      "metadata": {
        "id": "oQg9_uEm3wMW",
        "colab_type": "code",
        "colab": {
          "base_uri": "https://localhost:8080/",
          "height": 85
        },
        "outputId": "028316ce-0cf6-4ec7-f313-5f71ebdc542c"
      },
      "source": [
        "strings = [\"Becomes\", \"becomes\", \"BEAR\", \"    bEautiful\"]\n",
        "for c in range(len(strings)):\n",
        "  print(strings[c].startswith(\"be\"))"
      ],
      "execution_count": null,
      "outputs": [
        {
          "output_type": "stream",
          "text": [
            "False\n",
            "True\n",
            "False\n",
            "False\n"
          ],
          "name": "stdout"
        }
      ]
    },
    {
      "cell_type": "code",
      "metadata": {
        "id": "bn9xDN4249Hk",
        "colab_type": "code",
        "colab": {
          "base_uri": "https://localhost:8080/",
          "height": 85
        },
        "outputId": "996ac4c5-6d1a-4f4b-d409-deb85220c1f7"
      },
      "source": [
        "strings_improved = [\"becomes\", \"becomes\", \"bear\", \"beautiful\"]\n",
        "for c in range(len(strings_improved)):\n",
        "  print(strings_improved[c].startswith(\"be\"))"
      ],
      "execution_count": null,
      "outputs": [
        {
          "output_type": "stream",
          "text": [
            "True\n",
            "True\n",
            "True\n",
            "True\n"
          ],
          "name": "stdout"
        }
      ]
    },
    {
      "cell_type": "markdown",
      "metadata": {
        "id": "zlofsMOq611X",
        "colab_type": "text"
      },
      "source": [
        "4.4 Review Exercies\n",
        "1. Echo input from user\n",
        "2. Echo lowercase input from user\n",
        "3. Write number of characters in input"
      ]
    },
    {
      "cell_type": "code",
      "metadata": {
        "id": "O8pm9oJx6bnS",
        "colab_type": "code",
        "colab": {
          "base_uri": "https://localhost:8080/",
          "height": 51
        },
        "outputId": "c25af3ca-b272-4f91-869c-eb7671dcc723"
      },
      "source": [
        "r1 = input(\"Write something: \")\n",
        "print(r1)"
      ],
      "execution_count": null,
      "outputs": [
        {
          "output_type": "stream",
          "text": [
            "Write something: Vijval\n",
            "Vijval\n"
          ],
          "name": "stdout"
        }
      ]
    },
    {
      "cell_type": "code",
      "metadata": {
        "id": "9WCqgeQn7Ig_",
        "colab_type": "code",
        "colab": {
          "base_uri": "https://localhost:8080/",
          "height": 51
        },
        "outputId": "a10b26b1-d375-4869-d669-3bccc09979c8"
      },
      "source": [
        "r2 = input(\"Write uppercase: \")\n",
        "print(r2.lower())"
      ],
      "execution_count": null,
      "outputs": [
        {
          "output_type": "stream",
          "text": [
            "Write uppercase: VIJVAL\n",
            "vijval\n"
          ],
          "name": "stdout"
        }
      ]
    },
    {
      "cell_type": "code",
      "metadata": {
        "id": "VtnPmxVd7VPu",
        "colab_type": "code",
        "colab": {
          "base_uri": "https://localhost:8080/",
          "height": 68
        },
        "outputId": "2d894621-5ff2-466e-e91c-d0382017c4c1"
      },
      "source": [
        "r3 = input(\"Write something, we'll output length: \")\n",
        "print(len(r3))\n",
        "\n",
        "print(\"hello\".isalnum())"
      ],
      "execution_count": null,
      "outputs": [
        {
          "output_type": "stream",
          "text": [
            "Write something, we'll output length: bing\n",
            "4\n",
            "True\n"
          ],
          "name": "stdout"
        }
      ]
    },
    {
      "cell_type": "markdown",
      "metadata": {
        "id": "P3fcE7eA7vH1",
        "colab_type": "text"
      },
      "source": [
        "4.5 Challenge:\n",
        "- Prompt user for input\n",
        "- Return uppercase first character"
      ]
    },
    {
      "cell_type": "code",
      "metadata": {
        "id": "VKJEshsP7ok-",
        "colab_type": "code",
        "colab": {
          "base_uri": "https://localhost:8080/",
          "height": 51
        },
        "outputId": "4ac661e7-12b1-4702-e948-8d4bfe2251c5"
      },
      "source": [
        "def first_letter():\n",
        "  first_letter = input(\"Tell me your password: \")\n",
        "  if (first_letter.isalnum() != True):\n",
        "      print(\"Invalid string\")\n",
        "  else:\n",
        "      print(first_letter[0].upper())\n",
        "\n",
        "first_letter()"
      ],
      "execution_count": null,
      "outputs": [
        {
          "output_type": "stream",
          "text": [
            "Tell me your password: password\n",
            "P\n"
          ],
          "name": "stdout"
        }
      ]
    },
    {
      "cell_type": "markdown",
      "metadata": {
        "id": "9LPlPJcr-2ng",
        "colab_type": "text"
      },
      "source": [
        "4.6 Review Exercises\n",
        "1. Convert string to integer\n",
        "2. Convert string to float\n",
        "3. Display str and int\n",
        "4. Multiply two inputs"
      ]
    },
    {
      "cell_type": "code",
      "metadata": {
        "id": "lzjVJn5i9eN4",
        "colab_type": "code",
        "colab": {
          "base_uri": "https://localhost:8080/",
          "height": 34
        },
        "outputId": "a4d00be4-8fd2-4fa4-d8b1-0c70a92ee710"
      },
      "source": [
        "twelve_int = \"12\"\n",
        "print(int(twelve_int))"
      ],
      "execution_count": null,
      "outputs": [
        {
          "output_type": "stream",
          "text": [
            "12\n"
          ],
          "name": "stdout"
        }
      ]
    },
    {
      "cell_type": "code",
      "metadata": {
        "id": "TyF1MWnb_Kij",
        "colab_type": "code",
        "colab": {
          "base_uri": "https://localhost:8080/",
          "height": 34
        },
        "outputId": "0f082557-1f1f-4502-eb21-9abb95973890"
      },
      "source": [
        "twelve_float = \"12.0\"\n",
        "print(float(twelve_float))"
      ],
      "execution_count": null,
      "outputs": [
        {
          "output_type": "stream",
          "text": [
            "12.0\n"
          ],
          "name": "stdout"
        }
      ]
    },
    {
      "cell_type": "code",
      "metadata": {
        "id": "BycQGKfS_Uir",
        "colab_type": "code",
        "colab": {
          "base_uri": "https://localhost:8080/",
          "height": 34
        },
        "outputId": "2096d445-3a6d-457d-e894-b44e644a258b"
      },
      "source": [
        "my_str = \"100\"\n",
        "my_int = 100\n",
        "print(my_str + \" \" + str(my_int))"
      ],
      "execution_count": null,
      "outputs": [
        {
          "output_type": "stream",
          "text": [
            "100 100\n"
          ],
          "name": "stdout"
        }
      ]
    },
    {
      "cell_type": "code",
      "metadata": {
        "id": "0gkfmgaB_j6u",
        "colab_type": "code",
        "colab": {
          "base_uri": "https://localhost:8080/",
          "height": 68
        },
        "outputId": "8a41859e-e80f-4dae-d212-b70ae4295d21"
      },
      "source": [
        "def mult():\n",
        "  m1 = int(input(\"Enter first: \"))\n",
        "  m2 = int(input(\"Enter second: \"))\n",
        "  return m1*m2\n",
        "mult()"
      ],
      "execution_count": null,
      "outputs": [
        {
          "output_type": "stream",
          "text": [
            "Enter first: 3\n",
            "Enter second: 4\n"
          ],
          "name": "stdout"
        },
        {
          "output_type": "execute_result",
          "data": {
            "text/plain": [
              "12"
            ]
          },
          "metadata": {
            "tags": []
          },
          "execution_count": 53
        }
      ]
    },
    {
      "cell_type": "code",
      "metadata": {
        "id": "jKvGtRoEARo5",
        "colab_type": "code",
        "colab": {}
      },
      "source": [
        "4.7 Review\n",
        "1. Use concatenation to output string\n",
        "2. Use format strings to output\n",
        "3. Use f-strings to output"
      ],
      "execution_count": null,
      "outputs": []
    },
    {
      "cell_type": "code",
      "metadata": {
        "id": "joUpAggwAkX7",
        "colab_type": "code",
        "colab": {
          "base_uri": "https://localhost:8080/",
          "height": 34
        },
        "outputId": "64e918f1-9b82-42f5-df48-004a09ab89ce"
      },
      "source": [
        "weight = 0.2\n",
        "animal = \"newt\"\n",
        "print(str(weight) + \" kg is the weight of the \" + animal)"
      ],
      "execution_count": null,
      "outputs": [
        {
          "output_type": "stream",
          "text": [
            "0.2 kg is the weight of the newt\n"
          ],
          "name": "stdout"
        }
      ]
    },
    {
      "cell_type": "code",
      "metadata": {
        "id": "uXudPQahA39K",
        "colab_type": "code",
        "colab": {
          "base_uri": "https://localhost:8080/",
          "height": 34
        },
        "outputId": "d38fb2f8-ab53-4a5b-f8a1-c80470b92d19"
      },
      "source": [
        "print(\"{} kg is the weight of the {}\".format(weight, animal))"
      ],
      "execution_count": null,
      "outputs": [
        {
          "output_type": "stream",
          "text": [
            "0.2 kg is the weight of the newt\n"
          ],
          "name": "stdout"
        }
      ]
    },
    {
      "cell_type": "code",
      "metadata": {
        "id": "HtvT5CHTB9Dg",
        "colab_type": "code",
        "colab": {
          "base_uri": "https://localhost:8080/",
          "height": 34
        },
        "outputId": "3d7915de-6ea1-44da-f315-33bd861fff6b"
      },
      "source": [
        "print(f\"{weight} kg is the eight of the {animal}\")"
      ],
      "execution_count": null,
      "outputs": [
        {
          "output_type": "stream",
          "text": [
            "0.2 kg is the eight of the newt\n"
          ],
          "name": "stdout"
        }
      ]
    },
    {
      "cell_type": "markdown",
      "metadata": {
        "id": "vDCa0_x6Cj3e",
        "colab_type": "text"
      },
      "source": [
        "4.8 Review\n",
        "1. Find \"a\" in \"AAA\"\n",
        "2. Replace every occurence of 's' with 'x'\n",
        "3. Find program"
      ]
    },
    {
      "cell_type": "code",
      "metadata": {
        "id": "_uBiZaVUCJMz",
        "colab_type": "code",
        "colab": {
          "base_uri": "https://localhost:8080/",
          "height": 34
        },
        "outputId": "c949e353-6227-42c4-ddc9-098c20814abf"
      },
      "source": [
        "print(\"AAA\".find(\"a\"))"
      ],
      "execution_count": null,
      "outputs": [
        {
          "output_type": "stream",
          "text": [
            "-1\n"
          ],
          "name": "stdout"
        }
      ]
    },
    {
      "cell_type": "code",
      "metadata": {
        "id": "Fia-sZ8KDjpO",
        "colab_type": "code",
        "colab": {
          "base_uri": "https://localhost:8080/",
          "height": 34
        },
        "outputId": "e53fb717-7066-47c3-a688-02a928814813"
      },
      "source": [
        "print(\"Somebody said something to Samantha.\".replace(\"s\", \"x\"))"
      ],
      "execution_count": null,
      "outputs": [
        {
          "output_type": "stream",
          "text": [
            "Somebody xaid xomething to Samantha.\n"
          ],
          "name": "stdout"
        }
      ]
    },
    {
      "cell_type": "code",
      "metadata": {
        "id": "QWi_0zI3Dvq_",
        "colab_type": "code",
        "colab": {
          "base_uri": "https://localhost:8080/",
          "height": 68
        },
        "outputId": "96c81005-16d7-4de5-f95b-aed283191c63"
      },
      "source": [
        "def find_char():\n",
        "  response = input(\"Please input a word: \")\n",
        "  let = input(\"Input a letter: \")\n",
        "  return response.find(let)\n",
        "find_char()"
      ],
      "execution_count": null,
      "outputs": [
        {
          "output_type": "stream",
          "text": [
            "Please input a word: Boom\n",
            "Input a letter: b\n"
          ],
          "name": "stdout"
        },
        {
          "output_type": "execute_result",
          "data": {
            "text/plain": [
              "-1"
            ]
          },
          "metadata": {
            "tags": []
          },
          "execution_count": 60
        }
      ]
    },
    {
      "cell_type": "markdown",
      "metadata": {
        "id": "AHxMF-iwEPBQ",
        "colab_type": "text"
      },
      "source": [
        "4.9 Turn text inputted into leetspeak"
      ]
    },
    {
      "cell_type": "code",
      "metadata": {
        "id": "cQEGqRn5EVvJ",
        "colab_type": "code",
        "colab": {
          "base_uri": "https://localhost:8080/",
          "height": 34
        },
        "outputId": "f6ab07c0-501c-4957-8273-8b791eb2e6e2"
      },
      "source": [
        "def leetspeak(str):\n",
        "  str = str.replace(\"a\", \"4\")\n",
        "  str = str.replace(\"b\", \"8\")\n",
        "  str = str.replace(\"e\", \"3\")\n",
        "  str = str.replace(\"l\", \"1\")\n",
        "  str = str.replace(\"o\", \"0\")\n",
        "  str = str.replace(\"s\", \"5\")\n",
        "  str = str.replace(\"t\", \"7\")\n",
        "  return str\n",
        "\n",
        "gibberish = \"I like to eat eggs and spam.\"\n",
        "print(leetspeak(gibberish))"
      ],
      "execution_count": null,
      "outputs": [
        {
          "output_type": "stream",
          "text": [
            "I 1ik3 70 347 3gg5 4nd 5p4m.\n"
          ],
          "name": "stdout"
        }
      ]
    }
  ]
}