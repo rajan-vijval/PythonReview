{
  "nbformat": 4,
  "nbformat_minor": 0,
  "metadata": {
    "colab": {
      "name": "ch10.ipynb",
      "provenance": [],
      "collapsed_sections": []
    },
    "kernelspec": {
      "name": "python3",
      "display_name": "Python 3"
    }
  },
  "cells": [
    {
      "cell_type": "markdown",
      "metadata": {
        "id": "gbiQjuHmMUTz",
        "colab_type": "text"
      },
      "source": [
        "10.1: creating classes"
      ]
    },
    {
      "cell_type": "code",
      "metadata": {
        "id": "9JgDlbEKMSjN",
        "colab_type": "code",
        "colab": {
          "base_uri": "https://localhost:8080/",
          "height": 34
        },
        "outputId": "28423779-4dcd-4c58-a26b-78e0b4815702"
      },
      "source": [
        "class Dog1:\n",
        "  # Class attribute\n",
        "  species = \"Canis familiaries\"\n",
        "\n",
        "  def __init__(self, name, age):\n",
        "    self.name = name\n",
        "    self.age = age\n",
        "\n",
        "\n",
        "Barley = Dog1(\"Barley\", 7)\n",
        "print(Barley.name)"
      ],
      "execution_count": 3,
      "outputs": [
        {
          "output_type": "stream",
          "text": [
            "Barley\n"
          ],
          "name": "stdout"
        }
      ]
    },
    {
      "cell_type": "markdown",
      "metadata": {
        "id": "e_1HKvaEM2hj",
        "colab_type": "text"
      },
      "source": [
        "10.2: Instantiate an Object\n",
        "\n",
        "- Define class with instance methods"
      ]
    },
    {
      "cell_type": "code",
      "metadata": {
        "id": "07LMXb9KSXtb",
        "colab_type": "code",
        "colab": {
          "base_uri": "https://localhost:8080/",
          "height": 34
        },
        "outputId": "28dd2fb6-8e7b-4677-b53f-9e0bbbbcbafc"
      },
      "source": [
        "class Dog:\n",
        "  species = \"Canis familiaris\"\n",
        "\n",
        "  def __init__(self, name, age, coat_color):\n",
        "    self.name = name\n",
        "    self.age = age\n",
        "    self.coat_color = coat_color\n",
        "\n",
        "    # Instance method\n",
        "    def description(self):\n",
        "      return f\"{self.name} is {self.age} years old\"\n",
        "\n",
        "    def speak(self, sound):\n",
        "      return f\"{self.name} says {sound}\"\n",
        "\n",
        "philo = Dog(\"Philo\", 5, \"brown\")\n",
        "print(f\"{philo.name}'s coat is {philo.coat_color}\")\n"
      ],
      "execution_count": 6,
      "outputs": [
        {
          "output_type": "stream",
          "text": [
            "Philo's coat is brown\n"
          ],
          "name": "stdout"
        }
      ]
    },
    {
      "cell_type": "code",
      "metadata": {
        "id": "X7aBbtUVnbK1",
        "colab_type": "code",
        "colab": {
          "base_uri": "https://localhost:8080/",
          "height": 51
        },
        "outputId": "88c54033-f48e-4ac8-8b83-7bf4ec9c633a"
      },
      "source": [
        "class Car:\n",
        "\n",
        "  def __init__(self, color, mileage):\n",
        "    self.color = color\n",
        "    self.mileage = mileage\n",
        "  \n",
        "  def drive(self, miles):\n",
        "    self.mileage += miles\n",
        "\n",
        "blue = Car(\"blue\", 20000)\n",
        "red = Car(\"red\", 30000)\n",
        "\n",
        "print(f\"The {blue.color} car has {blue.mileage} miles.\")\n",
        "print(f\"The {red.color} car has {red.mileage} miles.\")"
      ],
      "execution_count": 16,
      "outputs": [
        {
          "output_type": "stream",
          "text": [
            "The blue car has 20000 miles.\n",
            "The red car has 30000 miles.\n"
          ],
          "name": "stdout"
        }
      ]
    },
    {
      "cell_type": "code",
      "metadata": {
        "id": "eXqGOD5Xn7s5",
        "colab_type": "code",
        "colab": {
          "base_uri": "https://localhost:8080/",
          "height": 51
        },
        "outputId": "827c2612-dddc-44c5-a16e-7da9d052193e"
      },
      "source": [
        "zero_miles = Car(\"black\", 0)\n",
        "print(zero_miles.mileage)\n",
        "\n",
        "zero_miles.drive(100)\n",
        "print(zero_miles.mileage)"
      ],
      "execution_count": 17,
      "outputs": [
        {
          "output_type": "stream",
          "text": [
            "0\n",
            "100\n"
          ],
          "name": "stdout"
        }
      ]
    },
    {
      "cell_type": "markdown",
      "metadata": {
        "id": "4MHFW7xwpRbX",
        "colab_type": "text"
      },
      "source": [
        "10.3 Review"
      ]
    },
    {
      "cell_type": "code",
      "metadata": {
        "id": "O_ES-GUmpQcR",
        "colab_type": "code",
        "colab": {
          "base_uri": "https://localhost:8080/",
          "height": 37
        },
        "outputId": "7c4b6b1b-bf09-4d89-e179-d0f5618f5b88"
      },
      "source": [
        "class Dog:\n",
        "  species = \"Canis familiaris\"\n",
        "\n",
        "  def __init__(self, name, age):\n",
        "    self.name = name\n",
        "    self.age = age\n",
        "\n",
        "  def __str__(self):\n",
        "    return f\"{self.name} is {self.age} years old\"\n",
        "  \n",
        "  def speak(self, sound):\n",
        "    return f\"{self.name} says {sound}\"\n",
        "\n",
        "class GoldenRetriever(Dog):\n",
        "  sound = \"Bark\"\n",
        "\n",
        "  def speak(self):\n",
        "    return super().speak(self.sound)\n",
        "\n",
        "sonu = GoldenRetriever(\"Sonu\", 12)\n",
        "sonu.speak()"
      ],
      "execution_count": 24,
      "outputs": [
        {
          "output_type": "execute_result",
          "data": {
            "application/vnd.google.colaboratory.intrinsic+json": {
              "type": "string"
            },
            "text/plain": [
              "'Sonu says Bark'"
            ]
          },
          "metadata": {
            "tags": []
          },
          "execution_count": 24
        }
      ]
    },
    {
      "cell_type": "code",
      "metadata": {
        "id": "OFfj74hDqxEY",
        "colab_type": "code",
        "colab": {
          "base_uri": "https://localhost:8080/",
          "height": 34
        },
        "outputId": "b3798373-6a3e-4e0a-b452-06ea03f52838"
      },
      "source": [
        "class Rectangle:\n",
        "  \n",
        "  def __init__(self, length, width):\n",
        "    self.length = length\n",
        "    self.width = width\n",
        "  \n",
        "  def area(self):\n",
        "    return self.length*self.width\n",
        "\n",
        "class Square(Rectangle):\n",
        "\n",
        "  def __init__(self, side_length):\n",
        "    super().__init__(side_length, side_length)\n",
        "  \n",
        "\n",
        "s1 = Square(2)\n",
        "print(s1.area())"
      ],
      "execution_count": 39,
      "outputs": [
        {
          "output_type": "stream",
          "text": [
            "4\n"
          ],
          "name": "stdout"
        }
      ]
    },
    {
      "cell_type": "markdown",
      "metadata": {
        "id": "0JVH6SXl03dt",
        "colab_type": "text"
      },
      "source": [
        "10.4 Challenge"
      ]
    },
    {
      "cell_type": "code",
      "metadata": {
        "id": "UwCWv34Q04o0",
        "colab_type": "code",
        "colab": {
          "base_uri": "https://localhost:8080/",
          "height": 34
        },
        "outputId": "926182ac-2861-4cf6-d54f-d23a48ec99ed"
      },
      "source": [
        "class Animal:\n",
        "\n",
        "  def __init__(self, species, weight, inout):\n",
        "    self.species = species\n",
        "    self.weight = weight\n",
        "    self.inout = inout\n",
        "\n",
        "class Pig(Animal):\n",
        "  \n",
        "  def speak():\n",
        "    return \"Oink\"\n",
        "\n",
        "class Rooster(Animal):\n",
        "  def speak():\n",
        "    return \"Cockadoodledoo\"\n",
        "\n",
        "class Cow(Animal):\n",
        "  def speak():\n",
        "    return \"Moo\"\n",
        "\n",
        "bessie = Cow(\"cow\", 1200, \"out\")\n",
        "print(bessie.species)"
      ],
      "execution_count": 44,
      "outputs": [
        {
          "output_type": "stream",
          "text": [
            "cow\n"
          ],
          "name": "stdout"
        }
      ]
    }
  ]
}