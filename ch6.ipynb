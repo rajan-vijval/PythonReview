{
  "nbformat": 4,
  "nbformat_minor": 0,
  "metadata": {
    "colab": {
      "name": "ch6.ipynb",
      "provenance": []
    },
    "kernelspec": {
      "name": "python3",
      "display_name": "Python 3"
    }
  },
  "cells": [
    {
      "cell_type": "markdown",
      "metadata": {
        "id": "WrMqL3cXOYw5",
        "colab_type": "text"
      },
      "source": [
        "6.2 Review exercises\n",
        "1. cube() function that returns cube of input\n",
        "2. greet() function that returns greeting"
      ]
    },
    {
      "cell_type": "code",
      "metadata": {
        "id": "BRBXqUcnOXIw",
        "colab_type": "code",
        "colab": {
          "base_uri": "https://localhost:8080/",
          "height": 34
        },
        "outputId": "f92b5534-eb42-4175-c581-755b583237bb"
      },
      "source": [
        "def cube(num) :\n",
        "  return num**3\n",
        "\n",
        "print(cube(2))"
      ],
      "execution_count": 1,
      "outputs": [
        {
          "output_type": "stream",
          "text": [
            "8\n"
          ],
          "name": "stdout"
        }
      ]
    },
    {
      "cell_type": "code",
      "metadata": {
        "id": "6f3MMRP7Opxr",
        "colab_type": "code",
        "colab": {
          "base_uri": "https://localhost:8080/",
          "height": 34
        },
        "outputId": "c66715d5-2c32-4952-e35a-d3cc3c8a6c46"
      },
      "source": [
        "def greet(name) :\n",
        "  return \"Hello \" + name + \"!\"\n",
        "\n",
        "print(greet(\"Vijval\"))"
      ],
      "execution_count": 3,
      "outputs": [
        {
          "output_type": "stream",
          "text": [
            "Hello Vijval!\n"
          ],
          "name": "stdout"
        }
      ]
    },
    {
      "cell_type": "markdown",
      "metadata": {
        "id": "7HPoIvaMO1Yv",
        "colab_type": "text"
      },
      "source": [
        "6.3 Challenge"
      ]
    },
    {
      "cell_type": "code",
      "metadata": {
        "id": "SsC31nBsO3Sz",
        "colab_type": "code",
        "colab": {
          "base_uri": "https://localhost:8080/",
          "height": 34
        },
        "outputId": "32e2d68c-e8c8-4518-a802-051b416a1a9a"
      },
      "source": [
        "def convert_cel_to_far(celsius) :\n",
        "    return celsius * 9/5 + 32\n",
        "\n",
        "print(convert_cel_to_far(20))"
      ],
      "execution_count": 6,
      "outputs": [
        {
          "output_type": "stream",
          "text": [
            "68.0\n"
          ],
          "name": "stdout"
        }
      ]
    },
    {
      "cell_type": "code",
      "metadata": {
        "id": "8TJwXmyiPJk1",
        "colab_type": "code",
        "colab": {
          "base_uri": "https://localhost:8080/",
          "height": 34
        },
        "outputId": "9b0b602d-bfa6-42af-de55-d122d0e83220"
      },
      "source": [
        "def convert_far_to_cel(far) :\n",
        "    return (far - 32) * 5/9\n",
        "print(convert_far_to_cel(68))"
      ],
      "execution_count": 8,
      "outputs": [
        {
          "output_type": "stream",
          "text": [
            "20.0\n"
          ],
          "name": "stdout"
        }
      ]
    },
    {
      "cell_type": "code",
      "metadata": {
        "id": "zIzFCMC3PWyG",
        "colab_type": "code",
        "colab": {
          "base_uri": "https://localhost:8080/",
          "height": 85
        },
        "outputId": "8f57891b-d1a5-4209-c134-3da3cf582c1d"
      },
      "source": [
        "def full_convert() :\n",
        "    far1 = float(input(\"Enter a temperature in degrees F: \"))\n",
        "    cel1 = convert_far_to_cel(far1) \n",
        "    print(f\"{far1:.2f} degrees F = {cel1:.2f} degrees C\")\n",
        "\n",
        "    cel2 = float(input(\"Enter a termperature in degrees C: \"))\n",
        "    far2 = convert_cel_to_far(cel2)\n",
        "    print(f\"{cel2:.2f} degrees C = {far2:.2f} degrees F\")\n",
        "\n",
        "full_convert()"
      ],
      "execution_count": 15,
      "outputs": [
        {
          "output_type": "stream",
          "text": [
            "Enter a temperature in degrees F: 43.23\n",
            "43.23 degrees F = 6.24 degrees C\n",
            "Enter a termperature in degrees C: 20.00\n",
            "20.00 degrees C = 68.00 degrees F\n"
          ],
          "name": "stdout"
        }
      ]
    },
    {
      "cell_type": "markdown",
      "metadata": {
        "id": "9J2GBVXkR8Sz",
        "colab_type": "text"
      },
      "source": [
        "6.4 Review\n",
        "1. Print 2-10 using range()\n",
        "2. Print 2-10 usng while\n",
        "3. doubles() function that doubles a number 3 times"
      ]
    },
    {
      "cell_type": "code",
      "metadata": {
        "id": "Mrqmp0qiSIck",
        "colab_type": "code",
        "colab": {
          "base_uri": "https://localhost:8080/",
          "height": 170
        },
        "outputId": "5cc74092-f1c6-4fb6-bb13-23e10f142902"
      },
      "source": [
        "for i in range(2,11):\n",
        "  print(i)"
      ],
      "execution_count": 17,
      "outputs": [
        {
          "output_type": "stream",
          "text": [
            "2\n",
            "3\n",
            "4\n",
            "5\n",
            "6\n",
            "7\n",
            "8\n",
            "9\n",
            "10\n"
          ],
          "name": "stdout"
        }
      ]
    },
    {
      "cell_type": "code",
      "metadata": {
        "id": "rtav6DqlTRzC",
        "colab_type": "code",
        "colab": {
          "base_uri": "https://localhost:8080/",
          "height": 170
        },
        "outputId": "dc05cf5b-c00c-41a2-f1b0-9f48d7646e88"
      },
      "source": [
        "stop = 2\n",
        "while (stop != 11):\n",
        "  print(stop)\n",
        "  stop += 1"
      ],
      "execution_count": 22,
      "outputs": [
        {
          "output_type": "stream",
          "text": [
            "2\n",
            "3\n",
            "4\n",
            "5\n",
            "6\n",
            "7\n",
            "8\n",
            "9\n",
            "10\n"
          ],
          "name": "stdout"
        }
      ]
    },
    {
      "cell_type": "code",
      "metadata": {
        "id": "z1XXiurgTiUV",
        "colab_type": "code",
        "colab": {
          "base_uri": "https://localhost:8080/",
          "height": 68
        },
        "outputId": "5120040c-6a34-487b-8c75-23674bddd0f1"
      },
      "source": [
        "def doubles(num):\n",
        "  print(num * 2)\n",
        "  print(num * 4)\n",
        "  print(num * 8)\n",
        "\n",
        "doubles(100)"
      ],
      "execution_count": 23,
      "outputs": [
        {
          "output_type": "stream",
          "text": [
            "200\n",
            "400\n",
            "800\n"
          ],
          "name": "stdout"
        }
      ]
    },
    {
      "cell_type": "markdown",
      "metadata": {
        "id": "4ZWxzc8KUFvh",
        "colab_type": "text"
      },
      "source": [
        "6.5 Challenge"
      ]
    },
    {
      "cell_type": "code",
      "metadata": {
        "id": "IwqNheG2VZXk",
        "colab_type": "code",
        "colab": {
          "base_uri": "https://localhost:8080/",
          "height": 102
        },
        "outputId": "5fbe53dd-bc9e-4a12-8f62-04dfa54b55b3"
      },
      "source": [
        "def invest(amount, rate, years):\n",
        "  for i in range(1, (years+1)):\n",
        "    ret = amount*((1 + rate) ** i)\n",
        "    print(f\"year {i}: ${ret:.2f}\")\n",
        "\n",
        "invest(100, .05, 5)"
      ],
      "execution_count": 27,
      "outputs": [
        {
          "output_type": "stream",
          "text": [
            "year 1: $105.00\n",
            "year 2: $110.25\n",
            "year 3: $115.76\n",
            "year 4: $121.55\n",
            "year 5: $127.63\n"
          ],
          "name": "stdout"
        }
      ]
    }
  ]
}