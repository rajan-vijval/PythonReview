{
  "nbformat": 4,
  "nbformat_minor": 0,
  "metadata": {
    "colab": {
      "name": "ch8.ipynb",
      "provenance": [],
      "collapsed_sections": []
    },
    "kernelspec": {
      "name": "python3",
      "display_name": "Python 3"
    }
  },
  "cells": [
    {
      "cell_type": "code",
      "metadata": {
        "id": "e365BARrqYB9",
        "colab_type": "code",
        "colab": {}
      },
      "source": [
        ""
      ],
      "execution_count": null,
      "outputs": []
    },
    {
      "cell_type": "markdown",
      "metadata": {
        "id": "GKxwJGtrqfWc",
        "colab_type": "text"
      },
      "source": [
        "8.1 Review"
      ]
    },
    {
      "cell_type": "code",
      "metadata": {
        "id": "GEElcIEEqg2o",
        "colab_type": "code",
        "colab": {
          "base_uri": "https://localhost:8080/",
          "height": 34
        },
        "outputId": "345bef88-8d8e-4bbe-85c9-7997690e9528"
      },
      "source": [
        "(1 <= 1) and (1 != 1)\n",
        "not (1 != 2)\n",
        "(\"good\" != \"bad\") or False\n",
        "(\"good\" != \"Good\") and not (1 == 1)"
      ],
      "execution_count": null,
      "outputs": [
        {
          "output_type": "execute_result",
          "data": {
            "text/plain": [
              "False"
            ]
          },
          "metadata": {
            "tags": []
          },
          "execution_count": 2
        }
      ]
    },
    {
      "cell_type": "code",
      "metadata": {
        "id": "EwNH7PB1q6Dq",
        "colab_type": "code",
        "colab": {
          "base_uri": "https://localhost:8080/",
          "height": 34
        },
        "outputId": "e4d759d3-8042-409c-d58c-1c28a346d859"
      },
      "source": [
        "False == (not True)"
      ],
      "execution_count": null,
      "outputs": [
        {
          "output_type": "execute_result",
          "data": {
            "text/plain": [
              "True"
            ]
          },
          "metadata": {
            "tags": []
          },
          "execution_count": 5
        }
      ]
    },
    {
      "cell_type": "code",
      "metadata": {
        "id": "YscKIzWCq8NN",
        "colab_type": "code",
        "colab": {
          "base_uri": "https://localhost:8080/",
          "height": 34
        },
        "outputId": "2ee86a37-ac08-4339-ff6f-6acdce5a5531"
      },
      "source": [
        "(True and False) == True and False"
      ],
      "execution_count": null,
      "outputs": [
        {
          "output_type": "execute_result",
          "data": {
            "text/plain": [
              "False"
            ]
          },
          "metadata": {
            "tags": []
          },
          "execution_count": 6
        }
      ]
    },
    {
      "cell_type": "code",
      "metadata": {
        "id": "cfzTtm12rHAC",
        "colab_type": "code",
        "colab": {
          "base_uri": "https://localhost:8080/",
          "height": 34
        },
        "outputId": "34d1182d-defa-4dfc-eb27-b0446d430203"
      },
      "source": [
        "not (True) and \"A\" == \"B\""
      ],
      "execution_count": null,
      "outputs": [
        {
          "output_type": "execute_result",
          "data": {
            "text/plain": [
              "False"
            ]
          },
          "metadata": {
            "tags": []
          },
          "execution_count": 9
        }
      ]
    },
    {
      "cell_type": "markdown",
      "metadata": {
        "id": "ihxY2iDTrYEq",
        "colab_type": "text"
      },
      "source": [
        "8.3 Review"
      ]
    },
    {
      "cell_type": "code",
      "metadata": {
        "id": "x7WLWblcrYar",
        "colab_type": "code",
        "colab": {}
      },
      "source": [
        "def check_len():\n",
        "  word = input(\"Enter word\")\n",
        "  length = len(word)\n",
        "  if (length < 5) return \"Your input is less than 5 characters long\"\n",
        "  elif (lengh > 5) return \"Your input is greater than 5 characters long\"\n",
        "  else return \"Your input is 5 characters long\""
      ],
      "execution_count": null,
      "outputs": []
    },
    {
      "cell_type": "markdown",
      "metadata": {
        "id": "iOeSrvbLsA-b",
        "colab_type": "text"
      },
      "source": [
        "8.4 Factors of a number"
      ]
    },
    {
      "cell_type": "code",
      "metadata": {
        "id": "EPlZTsnBr0FZ",
        "colab_type": "code",
        "colab": {
          "base_uri": "https://localhost:8080/",
          "height": 119
        },
        "outputId": "ebfc70af-1e15-4a5a-8e65-cbaac2ba2787"
      },
      "source": [
        "def factors(num):\n",
        "  for i in range(1,(num+1)):\n",
        "    if ((num % i) == 0) :\n",
        "      print(str(i) + \" is a factor of \" + str(num))\n",
        "\n",
        "factors(12)"
      ],
      "execution_count": 22,
      "outputs": [
        {
          "output_type": "stream",
          "text": [
            "1 is a factor of 12\n",
            "2 is a factor of 12\n",
            "3 is a factor of 12\n",
            "4 is a factor of 12\n",
            "6 is a factor of 12\n",
            "12 is a factor of 12\n"
          ],
          "name": "stdout"
        }
      ]
    },
    {
      "cell_type": "markdown",
      "metadata": {
        "id": "_zFjoKwytaPd",
        "colab_type": "text"
      },
      "source": [
        "8.5 Review"
      ]
    },
    {
      "cell_type": "code",
      "metadata": {
        "id": "P7W47co2tcGD",
        "colab_type": "code",
        "colab": {
          "base_uri": "https://localhost:8080/",
          "height": 68
        },
        "outputId": "1b1df11b-50c0-4c62-be6c-0499ce45ea36"
      },
      "source": [
        "def quit():\n",
        "  while True:\n",
        "    user_in = input(\"Enter a character: \")\n",
        "    if (user_in == \"Q\" or user_in == \"q\"):\n",
        "      break\n",
        "\n",
        "\n",
        "quit()"
      ],
      "execution_count": 11,
      "outputs": [
        {
          "output_type": "stream",
          "text": [
            "Enter a charactera\n",
            "Enter a charactera\n",
            "Enter a characterq\n"
          ],
          "name": "stdout"
        }
      ]
    },
    {
      "cell_type": "code",
      "metadata": {
        "id": "s4MkAXNjxZ8s",
        "colab_type": "code",
        "colab": {
          "base_uri": "https://localhost:8080/",
          "height": 595
        },
        "outputId": "6664833d-0492-466d-e482-53f0ffddf5df"
      },
      "source": [
        "for i in range(1,51):\n",
        "  if (i % 3 ==0):\n",
        "    continue\n",
        "  else:\n",
        "    print(i)"
      ],
      "execution_count": 5,
      "outputs": [
        {
          "output_type": "stream",
          "text": [
            "1\n",
            "2\n",
            "4\n",
            "5\n",
            "7\n",
            "8\n",
            "10\n",
            "11\n",
            "13\n",
            "14\n",
            "16\n",
            "17\n",
            "19\n",
            "20\n",
            "22\n",
            "23\n",
            "25\n",
            "26\n",
            "28\n",
            "29\n",
            "31\n",
            "32\n",
            "34\n",
            "35\n",
            "37\n",
            "38\n",
            "40\n",
            "41\n",
            "43\n",
            "44\n",
            "46\n",
            "47\n",
            "49\n",
            "50\n"
          ],
          "name": "stdout"
        }
      ]
    },
    {
      "cell_type": "code",
      "metadata": {
        "id": "pH1lj0LoxozB",
        "colab_type": "code",
        "colab": {
          "base_uri": "https://localhost:8080/",
          "height": 545
        },
        "outputId": "ef74f907-3e22-498a-8a63-2cd31d30c769"
      },
      "source": [
        "def get_int():\n",
        "  i = int(input(\"Enter int: \"))\n",
        "\n",
        "  try:\n",
        "    i = int(input(\"Enter int: \"))\n",
        "    print(int(i))\n",
        "  except ValueError:\n",
        "    print(\"Try again\")\n",
        "    get_int()\n",
        "\n",
        "get_int()"
      ],
      "execution_count": 21,
      "outputs": [
        {
          "output_type": "stream",
          "text": [
            "Enter int: 3\n",
            "Enter int: \n",
            "Try again\n",
            "Enter int: a\n"
          ],
          "name": "stdout"
        },
        {
          "output_type": "error",
          "ename": "ValueError",
          "evalue": "ignored",
          "traceback": [
            "\u001b[0;31m---------------------------------------------------------------------------\u001b[0m",
            "\u001b[0;31mValueError\u001b[0m                                Traceback (most recent call last)",
            "\u001b[0;32m<ipython-input-21-7d40a4cef90e>\u001b[0m in \u001b[0;36mget_int\u001b[0;34m()\u001b[0m\n\u001b[1;32m      4\u001b[0m   \u001b[0;32mtry\u001b[0m\u001b[0;34m:\u001b[0m\u001b[0;34m\u001b[0m\u001b[0;34m\u001b[0m\u001b[0m\n\u001b[0;32m----> 5\u001b[0;31m     \u001b[0mi\u001b[0m \u001b[0;34m=\u001b[0m \u001b[0mint\u001b[0m\u001b[0;34m(\u001b[0m\u001b[0minput\u001b[0m\u001b[0;34m(\u001b[0m\u001b[0;34m\"Enter int: \"\u001b[0m\u001b[0;34m)\u001b[0m\u001b[0;34m)\u001b[0m\u001b[0;34m\u001b[0m\u001b[0;34m\u001b[0m\u001b[0m\n\u001b[0m\u001b[1;32m      6\u001b[0m     \u001b[0mprint\u001b[0m\u001b[0;34m(\u001b[0m\u001b[0mint\u001b[0m\u001b[0;34m(\u001b[0m\u001b[0mi\u001b[0m\u001b[0;34m)\u001b[0m\u001b[0;34m)\u001b[0m\u001b[0;34m\u001b[0m\u001b[0;34m\u001b[0m\u001b[0m\n",
            "\u001b[0;31mValueError\u001b[0m: invalid literal for int() with base 10: ''",
            "\nDuring handling of the above exception, another exception occurred:\n",
            "\u001b[0;31mValueError\u001b[0m                                Traceback (most recent call last)",
            "\u001b[0;32m<ipython-input-21-7d40a4cef90e>\u001b[0m in \u001b[0;36m<module>\u001b[0;34m()\u001b[0m\n\u001b[1;32m      9\u001b[0m     \u001b[0mget_int\u001b[0m\u001b[0;34m(\u001b[0m\u001b[0;34m)\u001b[0m\u001b[0;34m\u001b[0m\u001b[0;34m\u001b[0m\u001b[0m\n\u001b[1;32m     10\u001b[0m \u001b[0;34m\u001b[0m\u001b[0m\n\u001b[0;32m---> 11\u001b[0;31m \u001b[0mget_int\u001b[0m\u001b[0;34m(\u001b[0m\u001b[0;34m)\u001b[0m\u001b[0;34m\u001b[0m\u001b[0;34m\u001b[0m\u001b[0m\n\u001b[0m",
            "\u001b[0;32m<ipython-input-21-7d40a4cef90e>\u001b[0m in \u001b[0;36mget_int\u001b[0;34m()\u001b[0m\n\u001b[1;32m      7\u001b[0m   \u001b[0;32mexcept\u001b[0m \u001b[0mValueError\u001b[0m\u001b[0;34m:\u001b[0m\u001b[0;34m\u001b[0m\u001b[0;34m\u001b[0m\u001b[0m\n\u001b[1;32m      8\u001b[0m     \u001b[0mprint\u001b[0m\u001b[0;34m(\u001b[0m\u001b[0;34m\"Try again\"\u001b[0m\u001b[0;34m)\u001b[0m\u001b[0;34m\u001b[0m\u001b[0;34m\u001b[0m\u001b[0m\n\u001b[0;32m----> 9\u001b[0;31m     \u001b[0mget_int\u001b[0m\u001b[0;34m(\u001b[0m\u001b[0;34m)\u001b[0m\u001b[0;34m\u001b[0m\u001b[0;34m\u001b[0m\u001b[0m\n\u001b[0m\u001b[1;32m     10\u001b[0m \u001b[0;34m\u001b[0m\u001b[0m\n\u001b[1;32m     11\u001b[0m \u001b[0mget_int\u001b[0m\u001b[0;34m(\u001b[0m\u001b[0;34m)\u001b[0m\u001b[0;34m\u001b[0m\u001b[0;34m\u001b[0m\u001b[0m\n",
            "\u001b[0;32m<ipython-input-21-7d40a4cef90e>\u001b[0m in \u001b[0;36mget_int\u001b[0;34m()\u001b[0m\n\u001b[1;32m      1\u001b[0m \u001b[0;32mdef\u001b[0m \u001b[0mget_int\u001b[0m\u001b[0;34m(\u001b[0m\u001b[0;34m)\u001b[0m\u001b[0;34m:\u001b[0m\u001b[0;34m\u001b[0m\u001b[0;34m\u001b[0m\u001b[0m\n\u001b[0;32m----> 2\u001b[0;31m   \u001b[0mi\u001b[0m \u001b[0;34m=\u001b[0m \u001b[0mint\u001b[0m\u001b[0;34m(\u001b[0m\u001b[0minput\u001b[0m\u001b[0;34m(\u001b[0m\u001b[0;34m\"Enter int: \"\u001b[0m\u001b[0;34m)\u001b[0m\u001b[0;34m)\u001b[0m\u001b[0;34m\u001b[0m\u001b[0;34m\u001b[0m\u001b[0m\n\u001b[0m\u001b[1;32m      3\u001b[0m \u001b[0;34m\u001b[0m\u001b[0m\n\u001b[1;32m      4\u001b[0m   \u001b[0;32mtry\u001b[0m\u001b[0;34m:\u001b[0m\u001b[0;34m\u001b[0m\u001b[0;34m\u001b[0m\u001b[0m\n\u001b[1;32m      5\u001b[0m     \u001b[0mi\u001b[0m \u001b[0;34m=\u001b[0m \u001b[0mint\u001b[0m\u001b[0;34m(\u001b[0m\u001b[0minput\u001b[0m\u001b[0;34m(\u001b[0m\u001b[0;34m\"Enter int: \"\u001b[0m\u001b[0;34m)\u001b[0m\u001b[0;34m)\u001b[0m\u001b[0;34m\u001b[0m\u001b[0;34m\u001b[0m\u001b[0m\n",
            "\u001b[0;31mValueError\u001b[0m: invalid literal for int() with base 10: 'a'"
          ]
        }
      ]
    },
    {
      "cell_type": "code",
      "metadata": {
        "id": "iTvA3wq5z7ta",
        "colab_type": "code",
        "colab": {}
      },
      "source": [
        ""
      ],
      "execution_count": null,
      "outputs": []
    },
    {
      "cell_type": "markdown",
      "metadata": {
        "id": "1bn1NJEv0J_C",
        "colab_type": "text"
      },
      "source": [
        "8.7 Challenge"
      ]
    },
    {
      "cell_type": "code",
      "metadata": {
        "id": "KQQ8z8zr0LfI",
        "colab_type": "code",
        "colab": {
          "base_uri": "https://localhost:8080/",
          "height": 34
        },
        "outputId": "40734131-b7c6-4c69-b148-af57d968df37"
      },
      "source": [
        "import random \n",
        "\n",
        "def roll():\n",
        "  return random.randint(1,6)\n",
        "\n",
        "roll()"
      ],
      "execution_count": 41,
      "outputs": [
        {
          "output_type": "execute_result",
          "data": {
            "text/plain": [
              "6"
            ]
          },
          "metadata": {
            "tags": []
          },
          "execution_count": 41
        }
      ]
    },
    {
      "cell_type": "code",
      "metadata": {
        "id": "a2TxOjXl0cqY",
        "colab_type": "code",
        "colab": {
          "base_uri": "https://localhost:8080/",
          "height": 34
        },
        "outputId": "34ab541b-75cd-4428-915f-41ce784af334"
      },
      "source": [
        "def roll_ten_thousand():\n",
        "  sum = 0\n",
        "  count = 10000\n",
        "  while (count != 0):\n",
        "    sum += roll()\n",
        "    count -= 1\n",
        "  return sum/10000\n",
        "\n",
        "roll_ten_thousand()"
      ],
      "execution_count": 50,
      "outputs": [
        {
          "output_type": "execute_result",
          "data": {
            "text/plain": [
              "3.4781"
            ]
          },
          "metadata": {
            "tags": []
          },
          "execution_count": 50
        }
      ]
    },
    {
      "cell_type": "code",
      "metadata": {
        "id": "-ylr1VqE01qB",
        "colab_type": "code",
        "colab": {
          "base_uri": "https://localhost:8080/",
          "height": 34
        },
        "outputId": "6d6361ce-0b9d-409a-cc07-721e141f13cf"
      },
      "source": [
        "def flip():\n",
        "  i = random.randint(1,2)\n",
        "  return i\n",
        "\n",
        "def flip_ten_thousand():\n",
        "  heads = 0\n",
        "  tails = 0\n",
        "  count = 10000\n",
        "  while (count != 0):\n",
        "    i = flip()\n",
        "    count -= 1\n",
        "    if (i == 1):\n",
        "      heads += 1\n",
        "    elif (i == 2):\n",
        "      tails += 1\n",
        "  heads /= 10000\n",
        "  tails /= 10000\n",
        "  print(\"Heads: \" + str(heads) + \" Tails: \" + str(tails))\n",
        "\n",
        "flip_ten_thousand()"
      ],
      "execution_count": 113,
      "outputs": [
        {
          "output_type": "stream",
          "text": [
            "Heads: 0.5062 Tails: 0.4938\n"
          ],
          "name": "stdout"
        }
      ]
    },
    {
      "cell_type": "markdown",
      "metadata": {
        "id": "9yqNie7U1ywl",
        "colab_type": "text"
      },
      "source": [
        "8.9 Challenge:\n",
        "Simulate an election"
      ]
    },
    {
      "cell_type": "code",
      "metadata": {
        "id": "mxevjWWa1xvH",
        "colab_type": "code",
        "colab": {}
      },
      "source": [
        ""
      ],
      "execution_count": null,
      "outputs": []
    }
  ]
}