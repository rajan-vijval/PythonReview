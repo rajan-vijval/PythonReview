{
  "nbformat": 4,
  "nbformat_minor": 0,
  "metadata": {
    "colab": {
      "name": "ch5.ipynb",
      "provenance": []
    },
    "kernelspec": {
      "name": "python3",
      "display_name": "Python 3"
    }
  },
  "cells": [
    {
      "cell_type": "markdown",
      "metadata": {
        "id": "frl6a8JRQpIp",
        "colab_type": "text"
      },
      "source": [
        "5.3 Challenge\n",
        "1. Write exponent function"
      ]
    },
    {
      "cell_type": "code",
      "metadata": {
        "id": "CQndfe9MQoMf",
        "colab_type": "code",
        "colab": {
          "base_uri": "https://localhost:8080/",
          "height": 68
        },
        "outputId": "f4bc9e06-1ec8-49c0-ea74-6a99ce811ad9"
      },
      "source": [
        "def exp():\n",
        "  base = float(input(\"Enter base: \"))\n",
        "  exp = float(input(\"Enter exponent: \"))\n",
        "  ret = base**exp\n",
        "\n",
        "  print(str(base) + \" to the power of \"  + str(exp) + \" = \" + str(ret))\n",
        "\n",
        "exp()"
      ],
      "execution_count": null,
      "outputs": [
        {
          "output_type": "stream",
          "text": [
            "Enter base: 1.2\n",
            "Enter exponent: 3\n",
            "1.2 to the power of 3.0 = 1.7279999999999998\n"
          ],
          "name": "stdout"
        }
      ]
    },
    {
      "cell_type": "markdown",
      "metadata": {
        "id": "vcv5Hx3TS-FX",
        "colab_type": "text"
      },
      "source": [
        "5.5 Review\n",
        "1. Round entered number to 2 decimals\n",
        "2. Display abs val of input\n",
        "3. Check if difference is integer"
      ]
    },
    {
      "cell_type": "code",
      "metadata": {
        "id": "vDLCx1muR8Bv",
        "colab_type": "code",
        "colab": {
          "base_uri": "https://localhost:8080/",
          "height": 402
        },
        "outputId": "de009a78-3275-468e-adc2-aba597ed49d4"
      },
      "source": [
        "def round_me():\n",
        "  round = input(\"Enter a number: \")\n",
        "  print(str(round) + \" rounded to 2 decimal places is \" + str(round(round, 2)))\n",
        "\n",
        "round_me()"
      ],
      "execution_count": null,
      "outputs": [
        {
          "output_type": "stream",
          "text": [
            "Enter a number: 5\n"
          ],
          "name": "stdout"
        },
        {
          "output_type": "error",
          "ename": "TypeError",
          "evalue": "ignored",
          "traceback": [
            "\u001b[0;31m---------------------------------------------------------------------------\u001b[0m",
            "\u001b[0;31mTypeError\u001b[0m                                 Traceback (most recent call last)",
            "\u001b[0;32m<ipython-input-12-4aeafd70ef03>\u001b[0m in \u001b[0;36m<module>\u001b[0;34m()\u001b[0m\n\u001b[1;32m      3\u001b[0m   \u001b[0mprint\u001b[0m\u001b[0;34m(\u001b[0m\u001b[0mstr\u001b[0m\u001b[0;34m(\u001b[0m\u001b[0mround\u001b[0m\u001b[0;34m)\u001b[0m \u001b[0;34m+\u001b[0m \u001b[0;34m\" rounded to 2 decimal places is \"\u001b[0m \u001b[0;34m+\u001b[0m \u001b[0mstr\u001b[0m\u001b[0;34m(\u001b[0m\u001b[0mround\u001b[0m\u001b[0;34m(\u001b[0m\u001b[0mround\u001b[0m\u001b[0;34m,\u001b[0m \u001b[0;36m2\u001b[0m\u001b[0;34m)\u001b[0m\u001b[0;34m)\u001b[0m\u001b[0;34m)\u001b[0m\u001b[0;34m\u001b[0m\u001b[0;34m\u001b[0m\u001b[0m\n\u001b[1;32m      4\u001b[0m \u001b[0;34m\u001b[0m\u001b[0m\n\u001b[0;32m----> 5\u001b[0;31m \u001b[0mround_me\u001b[0m\u001b[0;34m(\u001b[0m\u001b[0;34m)\u001b[0m\u001b[0;34m\u001b[0m\u001b[0;34m\u001b[0m\u001b[0m\n\u001b[0m",
            "\u001b[0;32m<ipython-input-12-4aeafd70ef03>\u001b[0m in \u001b[0;36mround_me\u001b[0;34m()\u001b[0m\n\u001b[1;32m      1\u001b[0m \u001b[0;32mdef\u001b[0m \u001b[0mround_me\u001b[0m\u001b[0;34m(\u001b[0m\u001b[0;34m)\u001b[0m\u001b[0;34m:\u001b[0m\u001b[0;34m\u001b[0m\u001b[0;34m\u001b[0m\u001b[0m\n\u001b[1;32m      2\u001b[0m   \u001b[0mround\u001b[0m \u001b[0;34m=\u001b[0m \u001b[0minput\u001b[0m\u001b[0;34m(\u001b[0m\u001b[0;34m\"Enter a number: \"\u001b[0m\u001b[0;34m)\u001b[0m\u001b[0;34m\u001b[0m\u001b[0;34m\u001b[0m\u001b[0m\n\u001b[0;32m----> 3\u001b[0;31m   \u001b[0mprint\u001b[0m\u001b[0;34m(\u001b[0m\u001b[0mstr\u001b[0m\u001b[0;34m(\u001b[0m\u001b[0mround\u001b[0m\u001b[0;34m)\u001b[0m \u001b[0;34m+\u001b[0m \u001b[0;34m\" rounded to 2 decimal places is \"\u001b[0m \u001b[0;34m+\u001b[0m \u001b[0mstr\u001b[0m\u001b[0;34m(\u001b[0m\u001b[0mround\u001b[0m\u001b[0;34m(\u001b[0m\u001b[0mround\u001b[0m\u001b[0;34m,\u001b[0m \u001b[0;36m2\u001b[0m\u001b[0;34m)\u001b[0m\u001b[0;34m)\u001b[0m\u001b[0;34m)\u001b[0m\u001b[0;34m\u001b[0m\u001b[0;34m\u001b[0m\u001b[0m\n\u001b[0m\u001b[1;32m      4\u001b[0m \u001b[0;34m\u001b[0m\u001b[0m\n\u001b[1;32m      5\u001b[0m \u001b[0mround_me\u001b[0m\u001b[0;34m(\u001b[0m\u001b[0;34m)\u001b[0m\u001b[0;34m\u001b[0m\u001b[0;34m\u001b[0m\u001b[0m\n",
            "\u001b[0;31mTypeError\u001b[0m: 'str' object is not callable"
          ]
        }
      ]
    },
    {
      "cell_type": "code",
      "metadata": {
        "id": "8izl5i3QTil_",
        "colab_type": "code",
        "colab": {
          "base_uri": "https://localhost:8080/",
          "height": 51
        },
        "outputId": "9c7e558a-9129-4cfa-e251-522bde389b25"
      },
      "source": [
        "def abs_val():\n",
        "  num = int(input(\"Enter a number: \"))\n",
        "  print(\"The absolute value of \" + str(num) + \" is \" + str(abs(num)))\n",
        "\n",
        "abs_val()"
      ],
      "execution_count": null,
      "outputs": [
        {
          "output_type": "stream",
          "text": [
            "Enter a number-10\n",
            "The absolute value of -10 is 10\n"
          ],
          "name": "stdout"
        }
      ]
    },
    {
      "cell_type": "code",
      "metadata": {
        "id": "pdEveoNbWaHx",
        "colab_type": "code",
        "colab": {
          "base_uri": "https://localhost:8080/",
          "height": 68
        },
        "outputId": "b1883e29-9332-42f6-9b8f-2e4ecfe928bf"
      },
      "source": [
        "def diff_int():\n",
        "    num1 = float(input(\"Enter a number: \"))\n",
        "    num2 = float(input(\"Enter another number: \"))\n",
        "    diff = num1 - num2\n",
        "    print(\"The difference between \" + str(num1) + \" and \" + str(num2) + \" is an integer? \" + str(diff.is_integer()))\n",
        "\n",
        "diff_int()"
      ],
      "execution_count": null,
      "outputs": [
        {
          "output_type": "stream",
          "text": [
            "Enter a number: -20\n",
            "Enter another number: 10\n",
            "The difference between -20.0 and 10.0 is an integer? True\n"
          ],
          "name": "stdout"
        }
      ]
    },
    {
      "cell_type": "markdown",
      "metadata": {
        "id": "sy4LJZlQXIuX",
        "colab_type": "text"
      },
      "source": [
        "5.6 Review\n",
        "1. Print 3**.125 with 3 decimal places\n",
        "2. Print 150000 as currency\n",
        "3. Print result of 2/10 as percentage"
      ]
    },
    {
      "cell_type": "code",
      "metadata": {
        "id": "iAqLe8TKpMam",
        "colab_type": "code",
        "colab": {
          "base_uri": "https://localhost:8080/",
          "height": 34
        },
        "outputId": "5e611c3a-cd1d-4672-f4de-998c02f34391"
      },
      "source": [
        "n = 3 ** .125\n",
        "print(f\"{n:.3f}\")"
      ],
      "execution_count": null,
      "outputs": [
        {
          "output_type": "stream",
          "text": [
            "1.147\n"
          ],
          "name": "stdout"
        }
      ]
    },
    {
      "cell_type": "code",
      "metadata": {
        "id": "8A6ZljXILP6y",
        "colab_type": "code",
        "colab": {
          "base_uri": "https://localhost:8080/",
          "height": 34
        },
        "outputId": "c8c9d32b-4e66-4181-e49e-c16d750e243f"
      },
      "source": [
        "dollars = 150000\n",
        "print(f\"${dollars:,.2f}\")"
      ],
      "execution_count": null,
      "outputs": [
        {
          "output_type": "stream",
          "text": [
            "$150,000.00\n"
          ],
          "name": "stdout"
        }
      ]
    },
    {
      "cell_type": "code",
      "metadata": {
        "id": "q6aOJP2cMNYr",
        "colab_type": "code",
        "colab": {
          "base_uri": "https://localhost:8080/",
          "height": 34
        },
        "outputId": "5278c273-c17c-4a03-9708-79ac5d2641bf"
      },
      "source": [
        "ratio = 2/10\n",
        "print(f\"{ratio:.0%}\")"
      ],
      "execution_count": null,
      "outputs": [
        {
          "output_type": "stream",
          "text": [
            "20%\n"
          ],
          "name": "stdout"
        }
      ]
    }
  ]
}